{
 "cells": [
  {
   "cell_type": "markdown",
   "metadata": {},
   "source": [
    "#### Project Description\n",
    "\n",
    "The Capstone Project is a group project, and will be used in place of a Final Exam.\n",
    "\n",
    "Form teams of 3-4 people.\n",
    "\n",
    "Sign into Kaggle, then look through their 'competitions' or their 'datasets' for one that interests your team.  There are many types of projects, some covering machine learning topics that we did not cover in class.  However, you should be able to find projects in:\n",
    "\n",
    "1) Map/Reduce\n",
    "\n",
    "2) Linear Regression\n",
    "\n",
    "3) Logistic Regression\n",
    "\n",
    "4) Clustering\n",
    "\n",
    "You do not have to choose one of these, you can branch out if you want.\n",
    "\n",
    "Download the data from Kaggle.  If you are using data from one of the competitions, sign up for the competition, download the data (then solve the problem and submit your results!).\n",
    "\n",
    "Perform the suggested analysis, then report on your work.  If you can, compare your results with other submissions to Kaggle.\n",
    "\n",
    "When you are done, write a report indicating:\n",
    "\n",
    "1) Who is on your team! (very important)\n",
    "\n",
    "2) Which dataset/competition you chose.\n",
    "\n",
    "3) What approach you took.  What steps did you take to clean the data, improve the results, etc.\n",
    "\n",
    "4) What are your results.  How did you choose to visualize the results (perhaps show  different graphs/charts/views to highlight your conclusions)\n",
    "\n",
    "5) How did your results compare (if that information is available)\n",
    "\n",
    "6) What worked well, what not so well.\n",
    "\n",
    "When you are done, submit the report to Canvas.  "
   ]
  },
  {
   "cell_type": "markdown",
   "metadata": {},
   "source": [
    "#### Team Members\n",
    "- ##### Simon Nguyen\n",
    "- ##### Eduardo Castro\n",
    "- ##### Bryan \n",
    "- ##### Myo Aung"
   ]
  },
  {
   "cell_type": "code",
   "execution_count": 1,
   "metadata": {},
   "outputs": [],
   "source": [
    "# Imports \n",
    "import pandas as pd\n",
    "import numpy as np\n",
    "import matplotlib.pyplot as plt\n",
    "from math import exp\n",
    "import seaborn as sns\n",
    "from sklearn.model_selection import train_test_split\n",
    "from sklearn.linear_model import LogisticRegression\n",
    "from sklearn.preprocessing import scale\n",
    "from sklearn import preprocessing\n",
    "from sklearn.metrics import accuracy_score, classification_report, confusion_matrix"
   ]
  }
 ],
 "metadata": {
  "kernelspec": {
   "display_name": "Python 3",
   "language": "python",
   "name": "python3"
  },
  "language_info": {
   "codemirror_mode": {
    "name": "ipython",
    "version": 3
   },
   "file_extension": ".py",
   "mimetype": "text/x-python",
   "name": "python",
   "nbconvert_exporter": "python",
   "pygments_lexer": "ipython3",
   "version": "3.12.0"
  }
 },
 "nbformat": 4,
 "nbformat_minor": 2
}
